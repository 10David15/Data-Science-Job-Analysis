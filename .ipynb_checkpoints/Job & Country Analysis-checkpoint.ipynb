{
 "cells": [
  {
   "cell_type": "code",
   "execution_count": 1,
   "metadata": {},
   "outputs": [],
   "source": [
    "import pandas as pd\n",
    "import numpy as np\n",
    "import matplotlib.pyplot as plt\n",
    "import seaborn as sns\n",
    "import missingno as msno\n",
    "import re\n",
    "from collections import defaultdict"
   ]
  },
  {
   "cell_type": "code",
   "execution_count": 2,
   "metadata": {},
   "outputs": [],
   "source": [
    "# DA = 'data analyst'\n",
    "# DS = 'data scientist'\n",
    "# DE = 'data engineer'\n",
    "\n",
    "# South Africa\n",
    "sa_DA = pd.read_csv(\"sa_DA.csv\")\n",
    "sa_DS = pd.read_csv(\"sa_DS.csv\")\n",
    "sa_DE = pd.read_csv(\"sa_DE.csv\")\n",
    "\n",
    "# United States\n",
    "us_DA = pd.read_csv(\"us_DA.csv\")\n",
    "us_DS = pd.read_csv(\"us_DS.csv\")\n",
    "us_DE = pd.read_csv(\"us_DE.csv\")\n",
    "\n",
    "# United Kingdom\n",
    "uk_DA = pd.read_csv(\"uk_DA.csv\")\n",
    "uk_DS = pd.read_csv(\"uk_DS.csv\")\n",
    "uk_DE = pd.read_csv(\"uk_DE.csv\")\n",
    "\n",
    "# Australia\n",
    "au_DA = pd.read_csv(\"au_DA.csv\")\n",
    "au_DS = pd.read_csv(\"au_DS.csv\")\n",
    "au_DE = pd.read_csv(\"au_DE.csv\")\n",
    "\n",
    "dataframes = [sa_DA, sa_DS, sa_DE,\n",
    "              us_DA, us_DS, us_DE,\n",
    "              uk_DA, uk_DS, uk_DE,\n",
    "              au_DA, au_DS, au_DE]"
   ]
  },
  {
   "cell_type": "code",
   "execution_count": 3,
   "metadata": {},
   "outputs": [
    {
     "data": {
      "text/html": [
       "<div>\n",
       "<style scoped>\n",
       "    .dataframe tbody tr th:only-of-type {\n",
       "        vertical-align: middle;\n",
       "    }\n",
       "\n",
       "    .dataframe tbody tr th {\n",
       "        vertical-align: top;\n",
       "    }\n",
       "\n",
       "    .dataframe thead th {\n",
       "        text-align: right;\n",
       "    }\n",
       "</style>\n",
       "<table border=\"1\" class=\"dataframe\">\n",
       "  <thead>\n",
       "    <tr style=\"text-align: right;\">\n",
       "      <th></th>\n",
       "      <th>Job Title</th>\n",
       "      <th>Salary Estimate</th>\n",
       "      <th>Job Description</th>\n",
       "      <th>Rating</th>\n",
       "      <th>Company Name</th>\n",
       "      <th>Location</th>\n",
       "      <th>Headquarters</th>\n",
       "      <th>Size</th>\n",
       "      <th>Founded</th>\n",
       "      <th>Type of ownership</th>\n",
       "      <th>Industry</th>\n",
       "      <th>Sector</th>\n",
       "      <th>Revenue</th>\n",
       "      <th>Competitors</th>\n",
       "    </tr>\n",
       "  </thead>\n",
       "  <tbody>\n",
       "    <tr>\n",
       "      <th>0</th>\n",
       "      <td>Senior Data Transformation Analyst</td>\n",
       "      <td>-1</td>\n",
       "      <td>Whats in it for you?\\n\\nThis position offers n...</td>\n",
       "      <td>4.0</td>\n",
       "      <td>IHS Markit\\n4.0</td>\n",
       "      <td>Cape Town</td>\n",
       "      <td>-1</td>\n",
       "      <td>10000+ Employees</td>\n",
       "      <td>2016</td>\n",
       "      <td>Company - Public</td>\n",
       "      <td>Consulting</td>\n",
       "      <td>Business Services</td>\n",
       "      <td>$2 to $5 billion (USD)</td>\n",
       "      <td>-1</td>\n",
       "    </tr>\n",
       "    <tr>\n",
       "      <th>1</th>\n",
       "      <td>Data Analyst</td>\n",
       "      <td>-1</td>\n",
       "      <td>Minimum requirements for the role:\\n\\nA degree...</td>\n",
       "      <td>3.1</td>\n",
       "      <td>Prostaff Holdings\\n3.1</td>\n",
       "      <td>Johannesburg</td>\n",
       "      <td>-1</td>\n",
       "      <td>Unknown</td>\n",
       "      <td>-1</td>\n",
       "      <td>Unknown</td>\n",
       "      <td>-1</td>\n",
       "      <td>-1</td>\n",
       "      <td>Less than $1 million (USD)</td>\n",
       "      <td>-1</td>\n",
       "    </tr>\n",
       "    <tr>\n",
       "      <th>2</th>\n",
       "      <td>Reporting &amp; Data Analyst</td>\n",
       "      <td>-1</td>\n",
       "      <td>Reporting &amp; Data Analyst\\n\\nIntroduction:\\n\\nA...</td>\n",
       "      <td>2.9</td>\n",
       "      <td>The Revenue Optimization Companies\\n2.9</td>\n",
       "      <td>Remote</td>\n",
       "      <td>-1</td>\n",
       "      <td>5001 to 10000 Employees</td>\n",
       "      <td>2000</td>\n",
       "      <td>Company - Private</td>\n",
       "      <td>Consumer Electronics &amp; Appliances Stores</td>\n",
       "      <td>Retail</td>\n",
       "      <td>$100 to $500 million (USD)</td>\n",
       "      <td>-1</td>\n",
       "    </tr>\n",
       "    <tr>\n",
       "      <th>3</th>\n",
       "      <td>Junior Data Developer System Analyst</td>\n",
       "      <td>-1</td>\n",
       "      <td>Adapt IT\\nJunior Data Developer System Analyst...</td>\n",
       "      <td>4.0</td>\n",
       "      <td>AdaptIT\\n4.0</td>\n",
       "      <td>Johannesburg</td>\n",
       "      <td>-1</td>\n",
       "      <td>51 to 200 Employees</td>\n",
       "      <td>-1</td>\n",
       "      <td>Company - Private</td>\n",
       "      <td>-1</td>\n",
       "      <td>-1</td>\n",
       "      <td>Less than $1 million (USD)</td>\n",
       "      <td>-1</td>\n",
       "    </tr>\n",
       "    <tr>\n",
       "      <th>4</th>\n",
       "      <td>Data Analyst - Johannesburg, South Africa</td>\n",
       "      <td>-1</td>\n",
       "      <td>EY’s newly established Africa Data Delivery Ce...</td>\n",
       "      <td>3.8</td>\n",
       "      <td>EY\\n3.8</td>\n",
       "      <td>Johannesburg</td>\n",
       "      <td>-1</td>\n",
       "      <td>10000+ Employees</td>\n",
       "      <td>1989</td>\n",
       "      <td>Company - Private</td>\n",
       "      <td>Accounting</td>\n",
       "      <td>Accounting &amp; Legal</td>\n",
       "      <td>$10+ billion (USD)</td>\n",
       "      <td>-1</td>\n",
       "    </tr>\n",
       "  </tbody>\n",
       "</table>\n",
       "</div>"
      ],
      "text/plain": [
       "                                   Job Title  Salary Estimate  \\\n",
       "0         Senior Data Transformation Analyst               -1   \n",
       "1                               Data Analyst               -1   \n",
       "2                   Reporting & Data Analyst               -1   \n",
       "3       Junior Data Developer System Analyst               -1   \n",
       "4  Data Analyst - Johannesburg, South Africa               -1   \n",
       "\n",
       "                                     Job Description  Rating  \\\n",
       "0  Whats in it for you?\\n\\nThis position offers n...     4.0   \n",
       "1  Minimum requirements for the role:\\n\\nA degree...     3.1   \n",
       "2  Reporting & Data Analyst\\n\\nIntroduction:\\n\\nA...     2.9   \n",
       "3  Adapt IT\\nJunior Data Developer System Analyst...     4.0   \n",
       "4  EY’s newly established Africa Data Delivery Ce...     3.8   \n",
       "\n",
       "                              Company Name      Location  Headquarters  \\\n",
       "0                          IHS Markit\\n4.0     Cape Town            -1   \n",
       "1                   Prostaff Holdings\\n3.1  Johannesburg            -1   \n",
       "2  The Revenue Optimization Companies\\n2.9        Remote            -1   \n",
       "3                             AdaptIT\\n4.0  Johannesburg            -1   \n",
       "4                                  EY\\n3.8  Johannesburg            -1   \n",
       "\n",
       "                      Size  Founded  Type of ownership  \\\n",
       "0         10000+ Employees     2016   Company - Public   \n",
       "1                  Unknown       -1            Unknown   \n",
       "2  5001 to 10000 Employees     2000  Company - Private   \n",
       "3      51 to 200 Employees       -1  Company - Private   \n",
       "4         10000+ Employees     1989  Company - Private   \n",
       "\n",
       "                                   Industry              Sector  \\\n",
       "0                                Consulting   Business Services   \n",
       "1                                        -1                  -1   \n",
       "2  Consumer Electronics & Appliances Stores              Retail   \n",
       "3                                        -1                  -1   \n",
       "4                                Accounting  Accounting & Legal   \n",
       "\n",
       "                      Revenue  Competitors  \n",
       "0      $2 to $5 billion (USD)           -1  \n",
       "1  Less than $1 million (USD)           -1  \n",
       "2  $100 to $500 million (USD)           -1  \n",
       "3  Less than $1 million (USD)           -1  \n",
       "4          $10+ billion (USD)           -1  "
      ]
     },
     "execution_count": 3,
     "metadata": {},
     "output_type": "execute_result"
    }
   ],
   "source": [
    "sa_DA.head()"
   ]
  },
  {
   "cell_type": "code",
   "execution_count": 4,
   "metadata": {},
   "outputs": [
    {
     "data": {
      "text/plain": [
       "Index(['Job Title', 'Salary Estimate', 'Job Description', 'Rating',\n",
       "       'Company Name', 'Location', 'Headquarters', 'Size', 'Founded',\n",
       "       'Type of ownership', 'Industry', 'Sector', 'Revenue', 'Competitors'],\n",
       "      dtype='object')"
      ]
     },
     "execution_count": 4,
     "metadata": {},
     "output_type": "execute_result"
    }
   ],
   "source": [
    "sa_DA.columns"
   ]
  },
  {
   "cell_type": "code",
   "execution_count": 5,
   "metadata": {},
   "outputs": [
    {
     "name": "stdout",
     "output_type": "stream",
     "text": [
      "SA\n",
      "1:  78 (original) 76 (dropped)\n",
      "2:  220 (original) 214 (dropped)\n",
      "3:  790 (original) 709 (dropped)\n",
      "\n",
      "US\n",
      "4:  1000 (original) 720 (dropped)\n",
      "5:  1000 (original) 673 (dropped)\n",
      "6:  800 (original) 551 (dropped)\n",
      "\n",
      "UK\n",
      "7:  785 (original) 646 (dropped)\n",
      "8:  1000 (original) 699 (dropped)\n",
      "9:  800 (original) 622 (dropped)\n",
      "\n",
      "AU\n",
      "10:  1000 (original) 160 (dropped)\n",
      "11:  468 (original) 168 (dropped)\n",
      "12:  800 (original) 157 (dropped)\n"
     ]
    }
   ],
   "source": [
    "# unfortunately the data from a glassdoor search quuery has duplicate job listings\n",
    "# need to drop duplictate jobs: (job description is the best identifier)\n",
    "\n",
    "counter = 0\n",
    "for df in dataframes:\n",
    "    if counter == 0: print(\"SA\") \n",
    "    if counter == 3: print(\"\\nUS\")\n",
    "    if counter == 6: print(\"\\nUK\")\n",
    "    if counter == 9: print(\"\\nAU\")\n",
    "    counter += 1\n",
    "    print(str(counter)+\": \",len(df[\"Job Description\"]),\"(original)\",\n",
    "          len(df.drop_duplicates(subset=\"Job Description\")),\"(dropped)\")"
   ]
  },
  {
   "cell_type": "code",
   "execution_count": 6,
   "metadata": {},
   "outputs": [],
   "source": [
    "for df in dataframes:\n",
    "    df.drop_duplicates(subset=\"Job Description\", inplace=True)"
   ]
  },
  {
   "cell_type": "code",
   "execution_count": 7,
   "metadata": {},
   "outputs": [],
   "source": [
    "# remove new line chars from job descriptions, company name\n",
    "\n",
    "for df in dataframes:\n",
    "    df[\"Job Description\"] = df[\"Job Description\"].str.replace(\"\\n\", \" \")\n",
    "    df[\"Company Name\"] = df[\"Company Name\"].str.replace(\"\\n\", \" \")"
   ]
  },
  {
   "cell_type": "code",
   "execution_count": 8,
   "metadata": {},
   "outputs": [],
   "source": [
    "techs = [\"Python\", \"R\", \"Julia\", \"Java\", \"C\", \"Scala\", \"Bash\", \"PowerBi\", \"Tableau\", \"Excel\", \"VBA\", \"Macros\",\"Alteryx\", \n",
    "         \"Spotfire\", \"Qlik\", \"Looker\", \"SAS\", \"ERP\", \"SAP\", \"MS Navision\", \"SAGE\", \"AccPac\", \"SQL\", \"Sql\", \"NoSql\", \"NoSQL\", \n",
    "         \"MongoDB\", \"Postgres\", \"PostgreSQL\", \"mySQL\", \"XML\", \"HTML\", \"CSS\", \"Javascript\", \"Hadoop\", \"Spark\", \"PySpark\", \n",
    "         \"SparkR\", \"Kafka\", \"ETL\", \"Oracle\", \"Storm\", \"AWS\", \"Cassandra\", \"Azkaban\", \"Airflow\", \"Luigi\", \"MATLAB\", \n",
    "         \"Snowflake\", \"BigQuery\", \"Azure\", \"GCP\", \"Perl\", \"Presto\", \"HBase\", \"Hive\", \"Druid\", \"Docker\", \"TensorFlow\"]\n",
    "pattern = \"|\".join(r\"\\b{}\\b\".format(x) for x in techs)"
   ]
  },
  {
   "cell_type": "code",
   "execution_count": 9,
   "metadata": {},
   "outputs": [],
   "source": [
    "for df in dataframes:\n",
    "    df[\"Technologies\"] = df[\"Job Description\"].str.findall(pattern, flags=re.I).str.join(\", \").replace(\"\", \"Not found\")"
   ]
  },
  {
   "cell_type": "code",
   "execution_count": 10,
   "metadata": {},
   "outputs": [],
   "source": [
    "def get_degree_level(df):\n",
    "    \"\"\"\n",
    "    Degree level\n",
    "    \"\"\"\n",
    " \n",
    "    result = []\n",
    "\n",
    "    for row in df[\"Job Description\"]:\n",
    "        try:\n",
    "            jd = row.split(\" \")\n",
    "            \n",
    "            if \"bachelors\" in map(lambda x: x.lower(), jd):\n",
    "                result.append([\"bachelors\"])\n",
    "            elif \"Bachelors\" in map(lambda x: x.lower(), jd):\n",
    "                result.append([\"bachelors\"])\n",
    "            elif \"bachelor\" in map(lambda x: x.lower(), jd):\n",
    "                result.append([\"bachelors\"])\n",
    "            elif \"Bachelor\" in map(lambda x: x.lower(), jd):\n",
    "                result.append([\"bachelors\"])\n",
    "            elif \"bachelor's\" in map(lambda x: x.lower(), jd):\n",
    "                result.append([\"bachelors\"])\n",
    "            elif \"Bachelor's\" in map(lambda x: x.lower(), jd):\n",
    "                result.append([\"bachelors\"])\n",
    "            if \"master's\" in map(lambda x: x.lower(), jd):   \n",
    "                result.append([\"masters\"])\n",
    "            elif \"Master's\" in map(lambda x: x.lower(), jd):                       \n",
    "                result.append([\"masters\"])\n",
    "            elif \"masters\" in map(lambda x: x.lower(), jd):                       \n",
    "                result.append([\"masters\"])\n",
    "            elif \"Masters\" in map(lambda x: x.lower(), jd):                       \n",
    "                result.append([\"masters\"])\n",
    "            if \"phd\" in map(lambda x: x.lower(), jd):\n",
    "                result.append([\"phd\"])\n",
    "            elif \"Phd\" in map(lambda x: x.lower(), jd):\n",
    "                result.append([\"phd\"])\n",
    "            elif \"Ph.D\" in map(lambda x: x.lower(), jd):\n",
    "                result.append([\"phd\"])\n",
    "            elif \"PH.D\" in map(lambda x: x.lower(), jd):\n",
    "                result.append([\"phd\"])\n",
    "            elif \"doctorate\" in map(lambda x: x.lower(), jd):\n",
    "                result.append([\"phd\"])\n",
    "\n",
    "            else: \n",
    "                result.append([\"UNSPECIFIED\"])\n",
    "                continue\n",
    "                \n",
    "        except: continue\n",
    "        \n",
    "    return result"
   ]
  },
  {
   "cell_type": "code",
   "execution_count": 11,
   "metadata": {},
   "outputs": [],
   "source": [
    "degree_level = get_degree_level(us_DE)"
   ]
  },
  {
   "cell_type": "code",
   "execution_count": 13,
   "metadata": {},
   "outputs": [],
   "source": [
    "def get_degree_major(df):\n",
    "    \"\"\"\n",
    "    Degree type (major)\n",
    "    \"\"\"\n",
    "    \n",
    "    # refine this list + add two word majors\n",
    "    majors_short = [\"quantititive\", \"IT\", \"engineering\", \"marketing\", \"business\", \"commerce\", \n",
    "                    \"statistics\", \"maths\", \"mathematics\", \"physics\", \"chemistry\", \"epidemiology\"]\n",
    "    VALIDATE = [\"engineering\", \"mathematics\", \"actuarial\"]\n",
    "    majors_long = [\"computer\", \"data\"]\n",
    "    DTEST = defaultdict(int)\n",
    "    result = []\n",
    "    \n",
    "    for row in df[\"Job Description\"]:\n",
    "        try:\n",
    "            if \"degree\" in row.lower():\n",
    "                subset = row.split(\"degree\")[1]\n",
    "                for major in majors_short:\n",
    "                    if major in subset:\n",
    "                        result.append(major)\n",
    "        \n",
    "        except: continue\n",
    "            \n",
    "    return result"
   ]
  },
  {
   "cell_type": "code",
   "execution_count": 14,
   "metadata": {},
   "outputs": [],
   "source": [
    "degree_type = get_degree_major(us_DS)"
   ]
  },
  {
   "cell_type": "code",
   "execution_count": 16,
   "metadata": {},
   "outputs": [
    {
     "data": {
      "text/plain": [
       "{'business': 115,\n",
       " 'statistics': 65,\n",
       " 'engineering': 62,\n",
       " 'IT': 43,\n",
       " 'mathematics': 37,\n",
       " 'marketing': 14,\n",
       " 'physics': 12,\n",
       " 'chemistry': 9,\n",
       " 'commerce': 6,\n",
       " 'epidemiology': 1}"
      ]
     },
     "execution_count": 16,
     "metadata": {},
     "output_type": "execute_result"
    }
   ],
   "source": [
    "# dict to count degree types\n",
    "deg_type_count = defaultdict(int)\n",
    "\n",
    "for word in degree_type:\n",
    "    deg_type_count[word] += 1\n",
    "    \n",
    "deg_type_count_sort = {k: v for k, v in sorted(deg_type_count.items(), key=lambda item: item[1], reverse=True)}\n",
    "deg_type_count_sort"
   ]
  },
  {
   "cell_type": "code",
   "execution_count": 17,
   "metadata": {},
   "outputs": [
    {
     "data": {
      "text/plain": [
       "{'UNSPECIFIED': 541, 'bachelors': 195, 'masters': 32, 'phd': 10}"
      ]
     },
     "execution_count": 17,
     "metadata": {},
     "output_type": "execute_result"
    }
   ],
   "source": [
    "# dict to count degree levels\n",
    "deg_level_count = defaultdict(int)\n",
    "\n",
    "for l in degree_level:\n",
    "    for word in l:\n",
    "         deg_level_count[word] += 1\n",
    "    \n",
    "deg_level_count_sort = {k: v for k, v in sorted(deg_level_count.items(), key=lambda item: item[1], reverse=True)}\n",
    "deg_level_count_sort"
   ]
  },
  {
   "cell_type": "markdown",
   "metadata": {},
   "source": [
    "possible NMF?"
   ]
  },
  {
   "cell_type": "markdown",
   "metadata": {},
   "source": [
    "## Part A: By Job Title"
   ]
  },
  {
   "cell_type": "markdown",
   "metadata": {},
   "source": [
    "### i. Data Analyst"
   ]
  },
  {
   "cell_type": "code",
   "execution_count": 39,
   "metadata": {},
   "outputs": [
    {
     "data": {
      "image/png": "[encoded data removed]",
      "text/plain": [
       "<Figure size 432x288 with 1 Axes>"
      ]
     },
     "metadata": {
      "needs_background": "light"
     },
     "output_type": "display_data"
    }
   ],
   "source": [
    "sa_DA_tech_count = defaultdict(int)\n",
    "for item in sa_DA[\"Technologies\"]:\n",
    "    names = item.split(\", \")\n",
    "    for name in names:\n",
    "        sa_DA_tech_count[name] += 1\n",
    "    \n",
    "sa_DA_tech_count_sort = {k: v for k, v in sorted(sa_DA_tech_count.items(), key=lambda item: item[1], reverse=True)}\n",
    "keys = list(sa_DA_tech_count_sort.keys())\n",
    "vals = [sa_DA_tech_count_sort[k] for k in keys]\n",
    "sns.barplot(x=keys[:30], y=vals[:30]).set_xticklabels(labels = keys[:30], rotation=70)\n",
    "plt.xlabel(\"Top 30 Data Analyst Tools\", size = 12)\n",
    "plt.ylabel(\"Count\", size = 12)\n",
    "plt.title(\"Popular Tools for Data Analysts:\", size=16);"
   ]
  },
  {
   "cell_type": "markdown",
   "metadata": {},
   "source": [
    "### ii. Data Scientist"
   ]
  },
  {
   "cell_type": "code",
   "execution_count": null,
   "metadata": {},
   "outputs": [],
   "source": []
  },
  {
   "cell_type": "markdown",
   "metadata": {},
   "source": [
    "### iii. Data Engineer"
   ]
  },
  {
   "cell_type": "code",
   "execution_count": null,
   "metadata": {},
   "outputs": [],
   "source": []
  },
  {
   "cell_type": "markdown",
   "metadata": {},
   "source": [
    "### iv. Combined"
   ]
  },
  {
   "cell_type": "code",
   "execution_count": null,
   "metadata": {},
   "outputs": [],
   "source": []
  },
  {
   "cell_type": "markdown",
   "metadata": {},
   "source": [
    "## Part B: By Country"
   ]
  },
  {
   "cell_type": "code",
   "execution_count": null,
   "metadata": {},
   "outputs": [],
   "source": []
  },
  {
   "cell_type": "markdown",
   "metadata": {},
   "source": [
    "### i. South Africa"
   ]
  },
  {
   "cell_type": "code",
   "execution_count": null,
   "metadata": {},
   "outputs": [],
   "source": []
  },
  {
   "cell_type": "markdown",
   "metadata": {},
   "source": [
    "### ii. United States"
   ]
  },
  {
   "cell_type": "code",
   "execution_count": null,
   "metadata": {},
   "outputs": [],
   "source": []
  },
  {
   "cell_type": "markdown",
   "metadata": {},
   "source": [
    "### iii. United Kingdom"
   ]
  },
  {
   "cell_type": "code",
   "execution_count": null,
   "metadata": {},
   "outputs": [],
   "source": []
  },
  {
   "cell_type": "markdown",
   "metadata": {},
   "source": [
    "### iv. Australia"
   ]
  },
  {
   "cell_type": "code",
   "execution_count": 34,
   "metadata": {},
   "outputs": [
    {
     "data": {
      "image/png": "[encoded data removed]",
      "text/plain": [
       "<Figure size 360x360 with 1 Axes>"
      ]
     },
     "metadata": {
      "needs_background": "light"
     },
     "output_type": "display_data"
    }
   ],
   "source": [
    "sns.catplot(data = au_DA, x = \"Location\", kind = \"count\", order=au_DA[\"Location\"].value_counts().iloc[:10].index).set_xticklabels(rotation=45)\n",
    "plt.xlabel(\"Location\", size = 12)\n",
    "plt.ylabel(\"Count\", size = 12)\n",
    "plt.title(\"10 Most Popular Locations:\", size=16);"
   ]
  },
  {
   "cell_type": "code",
   "execution_count": 32,
   "metadata": {},
   "outputs": [
    {
     "data": {
      "image/png": "[encoded data removed]",
      "text/plain": [
       "<Figure size 432x288 with 1 Axes>"
      ]
     },
     "metadata": {
      "needs_background": "light"
     },
     "output_type": "display_data"
    }
   ],
   "source": [
    "keys = list(deg_type_count_sort.keys())\n",
    "vals = [deg_type_count_sort[k] for k in keys]\n",
    "sns.barplot(x = keys, y = vals).set_xticklabels(labels = keys, rotation= 45)\n",
    "plt.xlabel(\"Type\", size = 12)\n",
    "plt.ylabel(\"Count\", size = 12)\n",
    "plt.title(\"Common Degree Types:\", size=16);"
   ]
  },
  {
   "cell_type": "code",
   "execution_count": 31,
   "metadata": {},
   "outputs": [
    {
     "data": {
      "image/png": "[encoded data removed]",
      "text/plain": [
       "<Figure size 432x288 with 1 Axes>"
      ]
     },
     "metadata": {
      "needs_background": "light"
     },
     "output_type": "display_data"
    }
   ],
   "source": [
    "keys = list(deg_level_count_sort.keys())\n",
    "vals = [deg_level_count_sort[k] for k in keys]\n",
    "sns.barplot(x = keys, y = vals).set_xticklabels(labels = keys, rotation= 45)\n",
    "plt.xlabel(\"Level\", size = 12)\n",
    "plt.ylabel(\"Count\", size = 12)\n",
    "plt.title(\"Degree Level:\", size=16);"
   ]
  },
  {
   "cell_type": "markdown",
   "metadata": {},
   "source": [
    "### v. Combined"
   ]
  },
  {
   "cell_type": "code",
   "execution_count": null,
   "metadata": {},
   "outputs": [],
   "source": []
  }
 ],
 "metadata": {
  "kernelspec": {
   "display_name": "Python 3",
   "language": "python",
   "name": "python3"
  },
  "language_info": {
   "codemirror_mode": {
    "name": "ipython",
    "version": 3
   },
   "file_extension": ".py",
   "mimetype": "text/x-python",
   "name": "python",
   "nbconvert_exporter": "python",
   "pygments_lexer": "ipython3",
   "version": "3.7.9"
  }
 },
 "nbformat": 4,
 "nbformat_minor": 4
}
