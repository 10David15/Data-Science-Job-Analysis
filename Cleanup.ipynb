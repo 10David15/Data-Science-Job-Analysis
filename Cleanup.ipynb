{
 "cells": [
  {
   "cell_type": "code",
   "execution_count": 3,
   "metadata": {},
   "outputs": [],
   "source": [
    "import pandas as pd\n",
    "import numpy as np\n",
    "import matplotlib.pyplot as plt\n",
    "import seaborn as sns\n",
    "import missingno as msno"
   ]
  },
  {
   "cell_type": "code",
   "execution_count": 4,
   "metadata": {},
   "outputs": [],
   "source": [
    "sa_DA = pd.read_csv(\"sa_DA.csv\")\n",
    "sa_DS = pd.read_csv(\"sa_DS.csv\")\n",
    "sa_DE = pd.read_csv(\"sa_DE.csv\")\n",
    "\n",
    "us_DA = pd.read_csv(\"us_DA.csv\")\n",
    "us_DS = pd.read_csv(\"us_DS.csv\")\n",
    "us_DE = pd.read_csv(\"us_DE.csv\")\n",
    "\n",
    "uk_DA = pd.read_csv(\"uk_DA.csv\")\n",
    "uk_DS = pd.read_csv(\"uk_DS.csv\")\n",
    "uk_DE = pd.read_csv(\"uk_DE.csv\")\n",
    "\n",
    "au_DA = pd.read_csv(\"au_DA.csv\")\n",
    "au_DS = pd.read_csv(\"au_DS.csv\")\n",
    "au_DE = pd.read_csv(\"au_DE.csv\")"
   ]
  },
  {
   "cell_type": "code",
   "execution_count": 9,
   "metadata": {},
   "outputs": [
    {
     "data": {
      "text/html": [
       "<div>\n",
       "<style scoped>\n",
       "    .dataframe tbody tr th:only-of-type {\n",
       "        vertical-align: middle;\n",
       "    }\n",
       "\n",
       "    .dataframe tbody tr th {\n",
       "        vertical-align: top;\n",
       "    }\n",
       "\n",
       "    .dataframe thead th {\n",
       "        text-align: right;\n",
       "    }\n",
       "</style>\n",
       "<table border=\"1\" class=\"dataframe\">\n",
       "  <thead>\n",
       "    <tr style=\"text-align: right;\">\n",
       "      <th></th>\n",
       "      <th>Job Title</th>\n",
       "      <th>Salary Estimate</th>\n",
       "      <th>Job Description</th>\n",
       "      <th>Rating</th>\n",
       "      <th>Company Name</th>\n",
       "      <th>Location</th>\n",
       "      <th>Headquarters</th>\n",
       "      <th>Size</th>\n",
       "      <th>Founded</th>\n",
       "      <th>Type of ownership</th>\n",
       "      <th>Industry</th>\n",
       "      <th>Sector</th>\n",
       "      <th>Revenue</th>\n",
       "      <th>Competitors</th>\n",
       "    </tr>\n",
       "  </thead>\n",
       "  <tbody>\n",
       "    <tr>\n",
       "      <th>0</th>\n",
       "      <td>Data Analyst</td>\n",
       "      <td>-1</td>\n",
       "      <td>Big Huge Games is looking for a qualified Data...</td>\n",
       "      <td>4.9</td>\n",
       "      <td>Big Huge Games\\n4.9</td>\n",
       "      <td>Timonium, MD</td>\n",
       "      <td>-1</td>\n",
       "      <td>51 to 200 Employees</td>\n",
       "      <td>2013</td>\n",
       "      <td>Subsidiary or Business Segment</td>\n",
       "      <td>Video Games</td>\n",
       "      <td>Media</td>\n",
       "      <td>Unknown / Non-Applicable</td>\n",
       "      <td>-1</td>\n",
       "    </tr>\n",
       "    <tr>\n",
       "      <th>1</th>\n",
       "      <td>Data Analyst</td>\n",
       "      <td>-1</td>\n",
       "      <td>DEPARTMENT: Analytics\\nPOSITION SUMMARY\\nNewDa...</td>\n",
       "      <td>3.9</td>\n",
       "      <td>NewDay USA\\n3.9</td>\n",
       "      <td>Fulton, MD</td>\n",
       "      <td>-1</td>\n",
       "      <td>501 to 1000 Employees</td>\n",
       "      <td>1999</td>\n",
       "      <td>Company - Private</td>\n",
       "      <td>Lending</td>\n",
       "      <td>Finance</td>\n",
       "      <td>Unknown / Non-Applicable</td>\n",
       "      <td>-1</td>\n",
       "    </tr>\n",
       "    <tr>\n",
       "      <th>2</th>\n",
       "      <td>Marketing Data Analyst</td>\n",
       "      <td>-1</td>\n",
       "      <td>Overview:\\n\\nThe Marketing Data Analyst is res...</td>\n",
       "      <td>4.4</td>\n",
       "      <td>C Spire\\n4.4</td>\n",
       "      <td>Ridgeland, MS</td>\n",
       "      <td>-1</td>\n",
       "      <td>1001 to 5000 Employees</td>\n",
       "      <td>1988</td>\n",
       "      <td>Company - Private</td>\n",
       "      <td>Telecommunications Services</td>\n",
       "      <td>Telecommunications</td>\n",
       "      <td>Unknown / Non-Applicable</td>\n",
       "      <td>-1</td>\n",
       "    </tr>\n",
       "    <tr>\n",
       "      <th>3</th>\n",
       "      <td>Senior Data Analyst</td>\n",
       "      <td>-1</td>\n",
       "      <td>Do you want to innovate customer experiences a...</td>\n",
       "      <td>3.4</td>\n",
       "      <td>GEICO\\n3.4</td>\n",
       "      <td>Chevy Chase, MD</td>\n",
       "      <td>-1</td>\n",
       "      <td>10000+ Employees</td>\n",
       "      <td>1936</td>\n",
       "      <td>Subsidiary or Business Segment</td>\n",
       "      <td>Insurance Carriers</td>\n",
       "      <td>Insurance</td>\n",
       "      <td>$10+ billion (USD)</td>\n",
       "      <td>-1</td>\n",
       "    </tr>\n",
       "    <tr>\n",
       "      <th>4</th>\n",
       "      <td>Data Analyst</td>\n",
       "      <td>-1</td>\n",
       "      <td>Rational is growing, and we need amazing talen...</td>\n",
       "      <td>2.7</td>\n",
       "      <td>Rational\\n2.7</td>\n",
       "      <td>Redmond, WA</td>\n",
       "      <td>-1</td>\n",
       "      <td>201 to 500 Employees</td>\n",
       "      <td>2009</td>\n",
       "      <td>Company - Public</td>\n",
       "      <td>Consulting</td>\n",
       "      <td>Business Services</td>\n",
       "      <td>Unknown / Non-Applicable</td>\n",
       "      <td>-1</td>\n",
       "    </tr>\n",
       "  </tbody>\n",
       "</table>\n",
       "</div>"
      ],
      "text/plain": [
       "                Job Title  Salary Estimate  \\\n",
       "0            Data Analyst               -1   \n",
       "1            Data Analyst               -1   \n",
       "2  Marketing Data Analyst               -1   \n",
       "3     Senior Data Analyst               -1   \n",
       "4            Data Analyst               -1   \n",
       "\n",
       "                                     Job Description  Rating  \\\n",
       "0  Big Huge Games is looking for a qualified Data...     4.9   \n",
       "1  DEPARTMENT: Analytics\\nPOSITION SUMMARY\\nNewDa...     3.9   \n",
       "2  Overview:\\n\\nThe Marketing Data Analyst is res...     4.4   \n",
       "3  Do you want to innovate customer experiences a...     3.4   \n",
       "4  Rational is growing, and we need amazing talen...     2.7   \n",
       "\n",
       "          Company Name         Location  Headquarters                    Size  \\\n",
       "0  Big Huge Games\\n4.9     Timonium, MD            -1     51 to 200 Employees   \n",
       "1      NewDay USA\\n3.9       Fulton, MD            -1   501 to 1000 Employees   \n",
       "2         C Spire\\n4.4    Ridgeland, MS            -1  1001 to 5000 Employees   \n",
       "3           GEICO\\n3.4  Chevy Chase, MD            -1        10000+ Employees   \n",
       "4        Rational\\n2.7      Redmond, WA            -1    201 to 500 Employees   \n",
       "\n",
       "   Founded               Type of ownership                     Industry  \\\n",
       "0     2013  Subsidiary or Business Segment                  Video Games   \n",
       "1     1999               Company - Private                      Lending   \n",
       "2     1988               Company - Private  Telecommunications Services   \n",
       "3     1936  Subsidiary or Business Segment           Insurance Carriers   \n",
       "4     2009                Company - Public                   Consulting   \n",
       "\n",
       "               Sector                   Revenue  Competitors  \n",
       "0               Media  Unknown / Non-Applicable           -1  \n",
       "1             Finance  Unknown / Non-Applicable           -1  \n",
       "2  Telecommunications  Unknown / Non-Applicable           -1  \n",
       "3           Insurance        $10+ billion (USD)           -1  \n",
       "4   Business Services  Unknown / Non-Applicable           -1  "
      ]
     },
     "execution_count": 9,
     "metadata": {},
     "output_type": "execute_result"
    }
   ],
   "source": [
    "us_DA.head()"
   ]
  },
  {
   "cell_type": "code",
   "execution_count": 10,
   "metadata": {},
   "outputs": [],
   "source": [
    "######### TO DO #########\n",
    "# add columns for things I'd find interesting (have to extract from job descr) like - hard skills technologies (R/Python), exp, soft skills, \n",
    "# remove new line chars from job descriptions\n",
    "#\n",
    "#\n",
    "#"
   ]
  },
  {
   "cell_type": "code",
   "execution_count": 11,
   "metadata": {},
   "outputs": [
    {
     "data": {
      "text/plain": [
       "'EY’s newly established Africa Data Delivery Centre will rapidly grow into a core service for our Africa Assurance business, providing centralized support for our mainstream digital analytical solutions Be part of this ground-breaking centre of excellence that will change the way that audit teams engage with clients around meaningful analysis and insights created by our digital solutions.\\n\\nThe opportunity\\n\\nWe are currently seeking the right candidate for an excellent career opportunity. As part of Data Delivery Centre, you will help our clients navigate the complex world of modern data science and analytics. You’ll be working closely with data delivery centre specialists, clients and/or audit managers to extract data and perform extraction transformation and loading, as well as initial analytical analysis and exception identification. In addition, you will experience high growth, high visibility area with plenty of opportunities to enhance your skillset and build your career.\\nYour key responsibilities\\n\\nWith a wide variety of clients across systems, sectors and geographies, you’ll be using a combination of manual processes, automated scripts and macros to extract transform and load data into the core digital analytical tools to agreed SLA targets. And participate in the Data Delivery centre learning and sharing initiatives to leverage from the EMEIA and Global data delivery and digital solution networks. In addition, you’ll reactively and proactively support projects related to driving demand from the assurance business and improving service delivery from the Data Delivery Centre.\\n\\nSkills and attributes for success\\nAdept at queries, report writing and presenting findings\\nDemonstrate strong project management and team management skills\\nDemonstrate good problem solving and interpersonal skills\\nDeadline oriented and able to prioritise own work\\nCustomer centric solution mindset\\nAbility to work in an ambiguous environment\\nTo qualify for the role, you must have\\nPreferred degree in Computer Science, Mathematics, Economics, Information Management or Statistics or equivalent\\nMinimum 2-3 years working experience as a data analyst or business data analyst\\nStrong understanding of IT environments, IT security, networking and server architecture\\nStrong knowledge of and experience with reporting packages (Business Objects, etc.), databases (SQL. etc.), programming (XML, Javascript, or ETL frameworks)\\nStrong working experience in one or more ERP’s e.g. SAP, Oracle, MS Navision, SAGE, AccPac etc. and associated ETL tools\\nWorking experience in SpotFire, PowerBi, Python and Alteryx\\nIdeally, you’ll also have\\nknowledge of auditing standards and experience as an auditor\\nStrong analytical skills with the ability to collect, organize, analyse, and disseminate significant amounts of information with attention to detail and accuracy\\nExperience in external audit or in a professional services firm will be a positive\\nWhat we look for\\n\\nWe’re interested in highly motivated people who demonstrate a truly global mind-set and are inspired by the chance to really push boundaries and make the absolute most of every opportunity. An effective communicator, you’ll be a confident team player equipped with strong people management skills and a genuine passion to make things happen in a dynamic organization.\\n\\nWhat working at EY offers\\n\\nWe offer a competitive compensation package where you’ll be rewarded based on your performance and recognized for the value you bring to our business.\\n\\nPlus, we offer:\\nThe opportunity to manage a portfolio of talent within a designated service line\\nA collaborative environment where everyone works together to create a better working world\\nExcellent training and development prospects, both through established programs and on-the-job training\\nAn excellent team of senior colleagues dedicated to managing and varying your workload\\nAbout EY\\n\\nAs a global leader in assurance, tax, transaction and advisory services, we hire and develop the most passionate people in their field to help build a better working world. This starts with a culture that believes in giving you the training, opportunities and creative freedom to make things better. So that whenever you join, however long you stay, the exceptional EY experience lasts a lifetime.\\n\\nIf you can confidently demonstrate that you meet the criteria above, please contact us as soon as possible.\\n\\nIt’s yours to build.\\n\\nApply now.'"
      ]
     },
     "execution_count": 11,
     "metadata": {},
     "output_type": "execute_result"
    }
   ],
   "source": [
    "sa_DA[\"Job Description\"][0]"
   ]
  },
  {
   "cell_type": "code",
   "execution_count": 12,
   "metadata": {},
   "outputs": [
    {
     "data": {
      "text/plain": [
       "array(['Data Analyst', 'Data Analyst (II)',\n",
       "       'Junior Data Developer System Analyst', 'Junior Data Analyst',\n",
       "       'Senior Data Developer System Analyst', 'Reporting & Data Analyst',\n",
       "       'Data Analyst - Johannesburg, South Africa',\n",
       "       'Data Analyst Programmer I for Visualisation',\n",
       "       'Data Analyst (Operations & Sales)', 'Digital Data Analyst'],\n",
       "      dtype=object)"
      ]
     },
     "execution_count": 12,
     "metadata": {},
     "output_type": "execute_result"
    }
   ],
   "source": [
    "sa_DA[\"Job Title\"].unique()"
   ]
  },
  {
   "cell_type": "code",
   "execution_count": 13,
   "metadata": {},
   "outputs": [
    {
     "data": {
      "text/plain": [
       "array(['Data Scientist', 'Data Analyst', 'Data Scientist III'],\n",
       "      dtype=object)"
      ]
     },
     "execution_count": 13,
     "metadata": {},
     "output_type": "execute_result"
    }
   ],
   "source": [
    "sa_DS[\"Job Title\"].unique()"
   ]
  },
  {
   "cell_type": "code",
   "execution_count": 14,
   "metadata": {},
   "outputs": [
    {
     "data": {
      "text/plain": [
       "array(['Data Scientist', 'Data Engineer', 'Data Architect - Principal',\n",
       "       'Data Engineer - EC2 Capacity Data Analytics',\n",
       "       'Quality Engineer (Data) – PBB IT',\n",
       "       'Cloud Support Engineer (Big Data)', 'Response Center Engineer',\n",
       "       'Software Development Engineer - EC2 Placement',\n",
       "       'Data Engineer - PBB IT', 'Aws Data Platform Engineer',\n",
       "       'Data Engineer Azure Data Factory'], dtype=object)"
      ]
     },
     "execution_count": 14,
     "metadata": {},
     "output_type": "execute_result"
    }
   ],
   "source": [
    "sa_DE[\"Job Title\"].unique()"
   ]
  },
  {
   "cell_type": "code",
   "execution_count": null,
   "metadata": {},
   "outputs": [],
   "source": []
  }
 ],
 "metadata": {
  "kernelspec": {
   "display_name": "Python 3",
   "language": "python",
   "name": "python3"
  },
  "language_info": {
   "codemirror_mode": {
    "name": "ipython",
    "version": 3
   },
   "file_extension": ".py",
   "mimetype": "text/x-python",
   "name": "python",
   "nbconvert_exporter": "python",
   "pygments_lexer": "ipython3",
   "version": "3.7.9"
  }
 },
 "nbformat": 4,
 "nbformat_minor": 4
}
